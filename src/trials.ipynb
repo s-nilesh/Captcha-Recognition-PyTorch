{
 "cells": [
  {
   "cell_type": "code",
   "execution_count": 39,
   "metadata": {},
   "outputs": [],
   "source": [
    "import json\n",
    "from glob import glob"
   ]
  },
  {
   "cell_type": "code",
   "execution_count": 43,
   "metadata": {},
   "outputs": [],
   "source": [
    "# import coco_text.json \n",
    "\n",
    "with open('../COCO_Text.json') as f:\n",
    "    coco_text = json.load(f)"
   ]
  },
  {
   "cell_type": "code",
   "execution_count": 44,
   "metadata": {},
   "outputs": [
    {
     "data": {
      "text/plain": [
       "dict_keys(['imgs', 'imgToAnns', 'cats', 'anns', 'info'])"
      ]
     },
     "execution_count": 44,
     "metadata": {},
     "output_type": "execute_result"
    }
   ],
   "source": [
    "coco_text.keys()"
   ]
  },
  {
   "cell_type": "code",
   "execution_count": 45,
   "metadata": {},
   "outputs": [
    {
     "data": {
      "text/plain": [
       "[('COCO_train2014_000000287140.jpg', [1058591, 1058590]),\n",
       " ('COCO_train2014_000000370258.jpg',\n",
       "  [1005864, 1005863, 1143254, 1209515, 1209514, 1209513]),\n",
       " ('COCO_train2014_000000036606.jpg', [1067513]),\n",
       " ('COCO_train2014_000000286892.jpg', [1059039, 1059038]),\n",
       " ('COCO_train2014_000000286897.jpg', [1032797, 1209689, 1209690, 1209691])]"
      ]
     },
     "execution_count": 45,
     "metadata": {},
     "output_type": "execute_result"
    }
   ],
   "source": [
    "# dictionary with names of images that have text in them as keys and annotation mapping keys as values\n",
    "# extending the image names to match the names in images folder\n",
    "imgs_with_text = {}\n",
    "for img in coco_text['imgs'].keys():\n",
    "    if coco_text['imgToAnns'][img]:\n",
    "        imgs_with_text['COCO_train2014_'+img.zfill(12)+'.jpg'] = coco_text['imgToAnns'][img]\n",
    "        \n",
    "list(imgs_with_text.items())[:5]"
   ]
  },
  {
   "cell_type": "code",
   "execution_count": null,
   "metadata": {},
   "outputs": [],
   "source": [
    "# crop all such images according to the bouding boxes given in coco_text['anns']\n",
    "# store these images in \n",
    "\n",
    "bbox = []\n",
    "\n",
    "for img_name, anns_li in imgs_with_text.items():\n",
    "    print(img_name)\n",
    "    for ann in anns_li:\n",
    "        if 'utf8_string' not in coco_text['anns'][str(ann)].keys():\n",
    "            continue\n",
    "        img = Image.open('./train2014/'+img_name)\n",
    "        bbox = coco_text['anns'][str(ann)]['bbox']\n",
    "        try:\n",
    "            img.crop((bbox[0], bbox[1], bbox[0]+bbox[2], bbox[1]+bbox[3])).save('./text_only/legible/'+coco_text['anns'][str(ann)]['utf8_string']+'.jpg')\n",
    "        except:\n",
    "            pass"
   ]
  },
  {
   "cell_type": "code",
   "execution_count": null,
   "metadata": {},
   "outputs": [],
   "source": []
  },
  {
   "cell_type": "code",
   "execution_count": null,
   "metadata": {},
   "outputs": [],
   "source": []
  },
  {
   "cell_type": "code",
   "execution_count": 1,
   "metadata": {},
   "outputs": [],
   "source": [
    "import os\n",
    "import glob\n",
    "import torch\n",
    "import numpy as np\n",
    "\n",
    "from sklearn import preprocessing\n",
    "from sklearn import model_selection\n",
    "from sklearn import metrics\n",
    "\n",
    "import config\n",
    "import dataset\n"
   ]
  },
  {
   "cell_type": "code",
   "execution_count": 2,
   "metadata": {},
   "outputs": [],
   "source": [
    "image_files = glob.glob(os.path.join(config.DATA_DIR, '*.jpg'))\n",
    "# \"/../../image.jpg\"  -> 'image'\n",
    "targets_orig = [x.split('/')[-1][:-4] for x in image_files]\n",
    "# 'abcde' -> ['a','b','c','d','e']\n",
    "targets = [[c for c in x] for x in targets_orig]\n",
    "targets_flat = [c for clist in targets for c in clist]\n",
    "\n",
    "lbl_enc = preprocessing.LabelEncoder()\n",
    "lbl_enc.fit(targets_flat)\n",
    "\n",
    "targets_enc = [lbl_enc.transform(x) for x in targets]\n",
    "# adding 1, to secure the place of 0 for unknown labels\n",
    "targets_enc = np.array(targets_enc) + 1\n",
    "\n",
    "# print(targets_enc)\n",
    "# print(len(lbl_enc.classes_))\n",
    "\n",
    "train_imgs, test_imgs, train_targets, test_targets, train_orig_targets, test_orig_targets = model_selection.train_test_split(\n",
    "    image_files, targets_enc, targets_orig, test_size=0.1, random_state=42)\n",
    "\n",
    "train_dataset = dataset.ClassificationDataset(\n",
    "    image_paths=train_imgs, targets=train_targets, resize=(config.IMAGE_HEIGHT, config.IMAGE_WIDTH))\n",
    "# train_loader = torch.utils.data.DataLoader(\n",
    "#     train_dataset,\n",
    "#     batch_size= config.BATCH_SIZE,\n",
    "#     shuffle=True\n",
    "# )"
   ]
  },
  {
   "cell_type": "code",
   "execution_count": 3,
   "metadata": {},
   "outputs": [],
   "source": [
    "import matplotlib.pyplot as plt\n",
    "%matplotlib inline"
   ]
  },
  {
   "cell_type": "code",
   "execution_count": 4,
   "metadata": {},
   "outputs": [
    {
     "data": {
      "text/plain": [
       "torch.Size([3, 75, 150])"
      ]
     },
     "execution_count": 4,
     "metadata": {},
     "output_type": "execute_result"
    }
   ],
   "source": [
    "train_dataset[0]['images'].size()   # here you have channels first"
   ]
  },
  {
   "cell_type": "code",
   "execution_count": 5,
   "metadata": {},
   "outputs": [
    {
     "data": {
      "text/plain": [
       "tensor([68, 73, 80, 68, 80])"
      ]
     },
     "execution_count": 5,
     "metadata": {},
     "output_type": "execute_result"
    }
   ],
   "source": [
    "train_dataset[1]['targets']"
   ]
  },
  {
   "cell_type": "code",
   "execution_count": 16,
   "metadata": {},
   "outputs": [],
   "source": [
    "npimg = train_dataset[300]['images'].numpy()"
   ]
  },
  {
   "cell_type": "code",
   "execution_count": 17,
   "metadata": {},
   "outputs": [
    {
     "data": {
      "text/plain": [
       "(3, 75, 150)"
      ]
     },
     "execution_count": 17,
     "metadata": {},
     "output_type": "execute_result"
    }
   ],
   "source": [
    "npimg.shape"
   ]
  },
  {
   "cell_type": "code",
   "execution_count": 18,
   "metadata": {},
   "outputs": [
    {
     "data": {
      "text/plain": [
       "(75, 150, 3)"
      ]
     },
     "execution_count": 18,
     "metadata": {},
     "output_type": "execute_result"
    }
   ],
   "source": [
    "# transpose the image to channel last\n",
    "np.transpose(npimg, (1,2,0)).shape"
   ]
  },
  {
   "cell_type": "code",
   "execution_count": 19,
   "metadata": {},
   "outputs": [
    {
     "name": "stderr",
     "output_type": "stream",
     "text": [
      "Clipping input data to the valid range for imshow with RGB data ([0..1] for floats or [0..255] for integers).\n"
     ]
    },
    {
     "data": {
      "text/plain": [
       "<matplotlib.image.AxesImage at 0x7f6c88298410>"
      ]
     },
     "execution_count": 19,
     "metadata": {},
     "output_type": "execute_result"
    },
    {
     "data": {
      "image/png": "[encoded data removed]",
      "text/plain": [
       "<Figure size 432x288 with 1 Axes>"
      ]
     },
     "metadata": {
      "needs_background": "light"
     },
     "output_type": "display_data"
    }
   ],
   "source": [
    "plt.imshow(np.transpose(npimg, (1,2,0)))"
   ]
  },
  {
   "cell_type": "code",
   "execution_count": 20,
   "metadata": {},
   "outputs": [],
   "source": [
    "from glob import glob"
   ]
  },
  {
   "cell_type": "code",
   "execution_count": 21,
   "metadata": {},
   "outputs": [
    {
     "data": {
      "text/plain": [
       "35826"
      ]
     },
     "execution_count": 21,
     "metadata": {},
     "output_type": "execute_result"
    }
   ],
   "source": [
    "len(glob('../text_only/legible/*'))"
   ]
  },
  {
   "cell_type": "code",
   "execution_count": 22,
   "metadata": {},
   "outputs": [
    {
     "data": {
      "text/plain": [
       "'../text_only/legible/ries.jpg'"
      ]
     },
     "execution_count": 22,
     "metadata": {},
     "output_type": "execute_result"
    }
   ],
   "source": [
    "glob('../text_only/legible/*')[0]"
   ]
  },
  {
   "cell_type": "code",
   "execution_count": 23,
   "metadata": {},
   "outputs": [],
   "source": [
    "from shutil import copyfile\n",
    "# copyfile(src, dst)"
   ]
  },
  {
   "cell_type": "code",
   "execution_count": 46,
   "metadata": {},
   "outputs": [],
   "source": [
    "# copyfile('../text_only/legible/ries.jpg', '../text_only/try_1/')"
   ]
  },
  {
   "cell_type": "code",
   "execution_count": 37,
   "metadata": {},
   "outputs": [
    {
     "data": {
      "text/plain": [
       "'../text_only/try_1/ries.jpg'"
      ]
     },
     "execution_count": 37,
     "metadata": {},
     "output_type": "execute_result"
    }
   ],
   "source": [
    "dest = '../text_only/legible/ries.jpg'.split('/')\n",
    "dest[2] = 'try_1'\n",
    "dest = \"/\".join(dest)\n",
    "dest "
   ]
  },
  {
   "cell_type": "code",
   "execution_count": 36,
   "metadata": {},
   "outputs": [
    {
     "data": {
      "text/plain": [
       "['..', 'text_only', 'try_1', 'ries.jpg']"
      ]
     },
     "execution_count": 36,
     "metadata": {},
     "output_type": "execute_result"
    }
   ],
   "source": [
    "dest"
   ]
  },
  {
   "cell_type": "code",
   "execution_count": 38,
   "metadata": {},
   "outputs": [],
   "source": [
    "for file in glob('../text_only/legible/*')[1:500]:\n",
    "    dest = file.split('/')\n",
    "    dest[2] = 'try_1'\n",
    "    dest = '/'.join(dest)\n",
    "    copyfile(file, dest)"
   ]
  },
  {
   "cell_type": "code",
   "execution_count": null,
   "metadata": {},
   "outputs": [],
   "source": []
  }
 ],
 "metadata": {
  "kernelspec": {
   "display_name": "Python 3",
   "language": "python",
   "name": "python3"
  },
  "language_info": {
   "codemirror_mode": {
    "name": "ipython",
    "version": 3
   },
   "file_extension": ".py",
   "mimetype": "text/x-python",
   "name": "python",
   "nbconvert_exporter": "python",
   "pygments_lexer": "ipython3",
   "version": "3.7.4"
  }
 },
 "nbformat": 4,
 "nbformat_minor": 4
}
